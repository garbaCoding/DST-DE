{
 "cells": [
  {
   "cell_type": "code",
   "execution_count": 9,
   "id": "a44ec844-7688-4b27-9cc6-48edf9ca9430",
   "metadata": {
    "tags": []
   },
   "outputs": [],
   "source": [
    "from time import time\n",
    "import numpy as np"
   ]
  },
  {
   "cell_type": "code",
   "execution_count": 10,
   "id": "a96f0325-a61e-425e-a881-cbcd3adb7137",
   "metadata": {
    "tags": []
   },
   "outputs": [
    {
     "name": "stdout",
     "output_type": "stream",
     "text": [
      "[2.72 2.75 2.77 2.8  2.83 2.85 2.88 2.91 2.94 2.96]\n"
     ]
    }
   ],
   "source": [
    "X = np.array([i/100 for i in range(100)])\n",
    "\n",
    "# Insérez votre code ici\n",
    "def f(X):\n",
    "    \"\"\"\n",
    "    Paramètres :\n",
    "    X : Array\n",
    "    \n",
    "    Return :\n",
    "    f(X) = exp(sin(X) + cos(X))\n",
    "    \"\"\"\n",
    "    return np.exp(np.sin(X) + np.cos(X))\n",
    "\n",
    "result = np.round(f(X),2)\n",
    "print(result[:10])"
   ]
  },
  {
   "cell_type": "code",
   "execution_count": 11,
   "id": "9bd4d2d4-cdc5-4ca1-b700-cb4daa21e259",
   "metadata": {
    "tags": []
   },
   "outputs": [
    {
     "name": "stdout",
     "output_type": "stream",
     "text": [
      "[2.72 2.75 2.77 2.8  2.83 2.85 2.88 2.91 2.94 2.96]\n"
     ]
    }
   ],
   "source": [
    "def f_python(X):\n",
    "    n = X.shape[0]\n",
    "    for i in range(n):\n",
    "        X[i] = np.exp(np.sin(X[i]) + np.cos(X[i]))\n",
    "    return X\n",
    "result = np.round(f_python(X),2)\n",
    "print(result[:10])"
   ]
  },
  {
   "cell_type": "code",
   "execution_count": 5,
   "id": "f8b44bf7-9eef-4bca-9c9e-5cb241721110",
   "metadata": {
    "tags": []
   },
   "outputs": [
    {
     "name": "stdout",
     "output_type": "stream",
     "text": [
      "Le calcul de f avec numpy a pris 0.24594998359680176 secondes\n",
      "Le calcul de f avec une boucle for a pris 21.016708850860596 secondes\n"
     ]
    }
   ],
   "source": [
    "# Création d'un array à 10 millions de valeurs\n",
    "X = np.array([i/1e7 for i in range(int(1e7))])\n",
    "\n",
    "heure_debut = time()\n",
    "f(X)\n",
    "heure_fin = time()\n",
    "\n",
    "temps = heure_fin - heure_debut\n",
    "\n",
    "print(\"Le calcul de f avec numpy a pris\", temps, \"secondes\")\n",
    "\n",
    "heure_debut = time()\n",
    "f_python(X)\n",
    "heure_fin = time()\n",
    "\n",
    "temps = heure_fin - heure_debut\n",
    "\n",
    "print(\"Le calcul de f avec une boucle for a pris\", temps, \"secondes\")"
   ]
  },
  {
   "cell_type": "code",
   "execution_count": null,
   "id": "db57fbea-3f03-4d22-8c78-548191f473cd",
   "metadata": {},
   "outputs": [],
   "source": []
  }
 ],
 "metadata": {
  "kernelspec": {
   "display_name": "Python 3",
   "language": "python",
   "name": "python3"
  },
  "language_info": {
   "codemirror_mode": {
    "name": "ipython",
    "version": 3
   },
   "file_extension": ".py",
   "mimetype": "text/x-python",
   "name": "python",
   "nbconvert_exporter": "python",
   "pygments_lexer": "ipython3",
   "version": "3.12.7"
  }
 },
 "nbformat": 4,
 "nbformat_minor": 5
}
