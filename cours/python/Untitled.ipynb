{
 "cells": [
  {
   "cell_type": "code",
   "execution_count": 13,
   "id": "8c0bd79b-965d-4c02-bd03-a147cbfeb313",
   "metadata": {
    "tags": []
   },
   "outputs": [],
   "source": [
    "bad_marks = [0, 2, 3, 3, 3, 3, 4, 5, 5, 5, 6, 6, 6, 6, 6, 7, 7, 8, 8, 8, 8, 8, 8, 9, 10, 10, 10, 11, 12, 14]"
   ]
  },
  {
   "cell_type": "code",
   "execution_count": 14,
   "id": "e4fba857-5ada-47ad-80a6-1887a9be1347",
   "metadata": {
    "tags": []
   },
   "outputs": [
    {
     "name": "stdout",
     "output_type": "stream",
     "text": [
      "6.7\n"
     ]
    }
   ],
   "source": [
    "sommeNotes = 0\n",
    "for note in bad_marks:\n",
    "    sommeNotes += note\n",
    "    \n",
    "moyenne = sommeNotes / 30\n",
    "print(moyenne)"
   ]
  },
  {
   "cell_type": "code",
   "execution_count": 21,
   "id": "47231cf3-6fcc-40db-b040-94a5a2cd1509",
   "metadata": {
    "tags": []
   },
   "outputs": [
    {
     "name": "stdout",
     "output_type": "stream",
     "text": [
      "10.7\n"
     ]
    }
   ],
   "source": [
    "good_marks = []\n",
    "sommeNewNotes = 0\n",
    "for newNote in bad_marks:\n",
    "    good_marks.append(newNote + 4)\n",
    "    sommeNewNotes += newNote  + 4\n",
    "\n",
    "moyenne = sommeNewNotes / 30\n",
    "print(moyenne)"
   ]
  },
  {
   "cell_type": "code",
   "execution_count": 24,
   "id": "b69e6fda-f0ab-45b3-a72b-21809648ed1d",
   "metadata": {
    "tags": []
   },
   "outputs": [
    {
     "name": "stdout",
     "output_type": "stream",
     "text": [
      "max :  8\n",
      "min :  1\n"
     ]
    }
   ],
   "source": [
    "l=[2,3,8,1,4]\n",
    "min = 10\n",
    "max = 0\n",
    "\n",
    "for val in l:\n",
    "    if val > max:\n",
    "        max = val\n",
    "    elif val < min:\n",
    "        min = val\n",
    "    \n",
    "    \n",
    "print(\"max : \", max)\n",
    "print(\"min : \", min)"
   ]
  },
  {
   "cell_type": "code",
   "execution_count": 27,
   "id": "5fdcd963-885a-48a0-b699-cdd408a1f6cc",
   "metadata": {
    "tags": []
   },
   "outputs": [
    {
     "name": "stdout",
     "output_type": "stream",
     "text": [
      "Le nombre 4 est présent\n"
     ]
    }
   ],
   "source": [
    "l = [2,3,4,5,6,4]\n",
    "for i in l:\n",
    "    if i == 4:\n",
    "        print(\"Le nombre 4 est présent\")\n",
    "        break\n"
   ]
  },
  {
   "cell_type": "code",
   "execution_count": 30,
   "id": "2ab64584-acb1-4499-b383-83e3597d4a07",
   "metadata": {
    "tags": []
   },
   "outputs": [
    {
     "name": "stdout",
     "output_type": "stream",
     "text": [
      "[0, 1, 1, 2, 3, 5, 8, 13, 21, 34, 55, 89, 144, 233, 377, 610, 987, 1597, 2584, 4181, 6765, 10946, 17711, 28657, 46368, 75025, 121393, 196418, 317811, 514229, 832040, 1346269, 2178309, 3524578, 5702887, 9227465, 14930352, 24157817, 39088169, 63245986, 102334155, 165580141, 267914296, 433494437, 701408733, 1134903170, 1836311903, 2971215073, 4807526976, 7778742049, 12586269025, 20365011074, 32951280099, 53316291173, 86267571272, 139583862445, 225851433717, 365435296162, 591286729879, 956722026041, 1548008755920, 2504730781961, 4052739537881, 6557470319842, 10610209857723, 17167680177565, 27777890035288, 44945570212853, 72723460248141, 117669030460994, 190392490709135, 308061521170129, 498454011879264, 806515533049393, 1304969544928657, 2111485077978050, 3416454622906707, 5527939700884757, 8944394323791464, 14472334024676221, 23416728348467685, 37889062373143906, 61305790721611591, 99194853094755497, 160500643816367088, 259695496911122585, 420196140727489673, 679891637638612258, 1100087778366101931, 1779979416004714189, 2880067194370816120, 4660046610375530309, 7540113804746346429, 12200160415121876738, 19740274219868223167, 31940434634990099905, 51680708854858323072, 83621143489848422977, 135301852344706746049]\n"
     ]
    }
   ],
   "source": [
    "# Les deux premiers termes de la suite de Fibonacci\n",
    "u = [0, 1]\n",
    "\n",
    "# Insérez votre code ici\n",
    "for i in range(2,99):\n",
    "    u.append(u[i-1] + u[i-2])\n",
    "print(u)"
   ]
  },
  {
   "cell_type": "code",
   "execution_count": 60,
   "id": "41accb51-91cf-4740-8768-f8b60d7d48b7",
   "metadata": {
    "tags": []
   },
   "outputs": [
    {
     "name": "stdout",
     "output_type": "stream",
     "text": [
      "s\n",
      "es\n",
      "res\n",
      "rres\n",
      "erres\n"
     ]
    }
   ],
   "source": [
    "mot = \"serre\"\n",
    "mot_inverse = \"\"\n",
    "for lettre in mot:\n",
    "    mot_inverse = lettre + mot_inverse # on ajoute à mot_inverse la lettre au début du mot pour inverser l'ordre des lettres\n",
    "    print(mot_inverse)\n"
   ]
  },
  {
   "cell_type": "code",
   "execution_count": 62,
   "id": "927cdf4f-7450-4775-9c11-abe5fafe27e0",
   "metadata": {
    "tags": []
   },
   "outputs": [
    {
     "name": "stdout",
     "output_type": "stream",
     "text": [
      "[0, 1, 8, 27, 64, 125, 216, 343, 512, 729]\n"
     ]
    }
   ],
   "source": [
    "puissance_trois = [i**3 for i in range(10)]\n",
    "print(puissance_trois)"
   ]
  }
 ],
 "metadata": {
  "kernelspec": {
   "display_name": "Python 3",
   "language": "python",
   "name": "python3"
  },
  "language_info": {
   "codemirror_mode": {
    "name": "ipython",
    "version": 3
   },
   "file_extension": ".py",
   "mimetype": "text/x-python",
   "name": "python",
   "nbconvert_exporter": "python",
   "pygments_lexer": "ipython3",
   "version": "3.12.7"
  }
 },
 "nbformat": 4,
 "nbformat_minor": 5
}
