{
 "cells": [
  {
   "cell_type": "code",
   "execution_count": 6,
   "id": "2b5e118b-4121-4ec4-96cb-5200aade6cf5",
   "metadata": {
    "jupyter": {
     "source_hidden": true
    }
   },
   "outputs": [],
   "source": [
    "ma_liste = [1, 5, \"Bonjour\", -1.4, \"comment\", \"ça\", 103, \"va\"]"
   ]
  },
  {
   "cell_type": "code",
   "execution_count": 7,
   "id": "822c9cb6",
   "metadata": {},
   "outputs": [
    {
     "name": "stdout",
     "output_type": "stream",
     "text": [
      "['Bonjour', 'comment', 'ça', 'va']\n"
     ]
    }
   ],
   "source": [
    "ma_liste.pop(0)\n",
    "ma_liste.pop(0)\n",
    "ma_liste.pop(1)\n",
    "ma_liste.pop(-2)\n",
    "print(ma_liste)"
   ]
  },
  {
   "cell_type": "code",
   "execution_count": 9,
   "id": "141e7410-2212-46d1-80fc-f48fd593a9ee",
   "metadata": {},
   "outputs": [
    {
     "name": "stdout",
     "output_type": "stream",
     "text": [
      "['Bonjour', 'Hello', 'comment', 'how', 'ça', 'are', 'you', 'va']\n"
     ]
    }
   ],
   "source": [
    "ma_liste.insert(1,\"Hello\")\n",
    "ma_liste.insert(3,\"how\")\n",
    "ma_liste.insert(5,\"are\")\n",
    "ma_liste.insert(-1,\"you\")\n",
    "print(ma_liste)"
   ]
  },
  {
   "cell_type": "code",
   "execution_count": 22,
   "id": "89729906-807e-4b0f-aecb-201fff53bfa8",
   "metadata": {},
   "outputs": [
    {
     "name": "stdout",
     "output_type": "stream",
     "text": [
      "{'prenom': 'paul', 'nom': 'lefebvre', 'emission': 1978}\n",
      "{'prenom': 'guillaume', 'nom': 'lefebvre', 'emission': 1978}\n",
      "{'prenom': 'guillaume', 'nom': 'lefebvre', 'emission': 1978, 'expiration': 1993}\n",
      "Durée de validité :  15 ans\n"
     ]
    }
   ],
   "source": [
    "carte_id = {\"prenom\" : \"paul\", \n",
    "             \"nom\" : \"lefebvre\", \n",
    "             \"emission\" : 1978}\n",
    "print(carte_id)\n",
    "carte_id[\"prenom\"] = \"guillaume\"\n",
    "print(carte_id)\n",
    "carte_id[\"expiration\"] = 1993\n",
    "print(carte_id)\n",
    "duree_validite = carte_id[\"expiration\"] - carte_id[\"emission\"]\n",
    "print(\"Durée de validité : \", str(duree_validite) + \" ans\")"
   ]
  },
  {
   "cell_type": "code",
   "execution_count": null,
   "id": "f08ced65-dfe2-4b37-8e0e-38fdd474c0a9",
   "metadata": {},
   "outputs": [],
   "source": []
  }
 ],
 "metadata": {
  "kernelspec": {
   "display_name": "Python 3 (ipykernel)",
   "language": "python",
   "name": "python3"
  },
  "language_info": {
   "codemirror_mode": {
    "name": "ipython",
    "version": 3
   },
   "file_extension": ".py",
   "mimetype": "text/x-python",
   "name": "python",
   "nbconvert_exporter": "python",
   "pygments_lexer": "ipython3",
   "version": "3.12.7"
  }
 },
 "nbformat": 4,
 "nbformat_minor": 5
}
