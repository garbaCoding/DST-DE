{
 "cells": [
  {
   "cell_type": "code",
   "execution_count": 8,
   "id": "ddc68c0d-e0b4-4284-9b61-e360ea3cddea",
   "metadata": {},
   "outputs": [
    {
     "name": "stdout",
     "output_type": "stream",
     "text": [
      "Il faudrait au marcheur 6 jours et 12.25 heures.\n"
     ]
    }
   ],
   "source": [
    "distance = 750\n",
    "vitesse = 4.8\n",
    "temps = distance / vitesse\n",
    "jour = temps // 24\n",
    "heures = temps % 24\n",
    "\n",
    "print(\"Il faudrait au marcheur \" + str(int(jour)) + \" jours et \" + str(heures) + \" heures.\")"
   ]
  },
  {
   "cell_type": "code",
   "execution_count": 13,
   "id": "17fb05cf-688a-4d12-80d7-9dc1763dd89e",
   "metadata": {},
   "outputs": [
    {
     "name": "stdout",
     "output_type": "stream",
     "text": [
      "6\n"
     ]
    }
   ],
   "source": [
    "nombres_premiers = [5, 7, 11, 13, 17, 19, 23, 29, 31, 37]\n",
    "x = nombres_premiers[2]\n",
    "x*=x\n",
    "x+=17\n",
    "x%=12\n",
    "print(x)"
   ]
  },
  {
   "cell_type": "code",
   "execution_count": 4,
   "id": "96b0d3ad-a547-40be-aaa2-a688b0dc066e",
   "metadata": {},
   "outputs": [
    {
     "name": "stdout",
     "output_type": "stream",
     "text": [
      "True\n"
     ]
    }
   ],
   "source": [
    "print((3**7+2**14)%7==0)"
   ]
  },
  {
   "cell_type": "code",
   "execution_count": 11,
   "id": "1df1b912-eca0-4468-b493-9d643afc4f4d",
   "metadata": {},
   "outputs": [
    {
     "name": "stdout",
     "output_type": "stream",
     "text": [
      "False\n"
     ]
    }
   ],
   "source": [
    "n=10\n",
    "print(3**(2*n+1) + 2**(4*n+2)%7==0)"
   ]
  },
  {
   "cell_type": "code",
   "execution_count": 12,
   "id": "32ce4959-7837-4ebc-8a48-e3104c50c873",
   "metadata": {},
   "outputs": [],
   "source": [
    "extrait = ['Le', 'Brésil,', 'seule', 'équipe', 'à', 'avoir', 'disputé', 'toutes',\n",
    "           'les', 'phases', 'finales', 'de', 'la', 'compétition,', 'détient', 'le', 'record',\n",
    "           'avec', 'cinq', 'titres', 'mondiaux', 'et', \"s'est\", 'acquis', 'le', 'droit', 'de',\n",
    "           'conserver', 'la', 'Coupe', 'Jules-Rimet', 'en', '1970', 'après', 'sa', '3e',\n",
    "           'victoire', 'finale', 'dans', 'la', 'compétition,', 'avec', 'Pelé', 'seul',\n",
    "           'joueur', 'triple', 'champion', 'du', 'monde.', \"l'\", \"Italie\", 'et',\n",
    "           \"l'\", \"Allemagne\", 'comptent', 'quatre', 'trophées.', \"l'\", \"Uruguay,\", 'vainqueur',\n",
    "           'à', 'domicile', 'de', 'la', 'première', 'édition,', \"l'\", \"Argentine\", 'et',\n",
    "           'la', 'France', 'ont', 'gagné', 'chacune', 'deux', 'fois', 'la', 'Coupe,',\n",
    "           \"l'\", \"Angleterre\", 'et', \"l'\", \"Espagne\", 'une', 'fois.', 'La', 'dernière', 'édition',\n",
    "           \"s'est\", 'déroulée', 'en', 'Russie', 'en', '2018,', 'la', 'prochaine', 'doit',\n",
    "           'avoir', 'lieu', 'au', 'Qatar', 'en', '2022.', 'Celle', 'de', '2026,', 'aux',\n",
    "           'États-Unis,', 'au', 'Canada', 'et', 'au', 'Mexique)', 'sera', 'la', 'première',\n",
    "           'édition', 'à', '48', 'équipes', 'participantes.', 'La', 'Coupe', 'du', 'monde',\n",
    "           'de', 'football', 'est', \"l'\", \"événement\", 'sportif', 'le', 'plus', 'regardé', 'à',\n",
    "           'la', 'télévision', 'dans', 'le', 'monde', 'avec', 'les', 'Jeux', 'olympiques',\n",
    "           'et', 'la', 'Coupe', 'du', 'monde', 'de', 'cricket.']\n",
    "\n"
   ]
  },
  {
   "cell_type": "code",
   "execution_count": 13,
   "id": "4727ab82-7a44-465b-989c-1cd3fbbb2d3b",
   "metadata": {},
   "outputs": [
    {
     "name": "stdout",
     "output_type": "stream",
     "text": [
      "True\n"
     ]
    }
   ],
   "source": [
    "print(\"France\" in extrait)"
   ]
  },
  {
   "cell_type": "code",
   "execution_count": 14,
   "id": "35276aff-41bb-4c60-8a2c-f9d7fb743685",
   "metadata": {},
   "outputs": [
    {
     "name": "stdout",
     "output_type": "stream",
     "text": [
      "True\n"
     ]
    }
   ],
   "source": [
    "print(\"Croatie\" not in extrait)"
   ]
  },
  {
   "cell_type": "code",
   "execution_count": 19,
   "id": "92d918a0-92ed-47d7-9ca4-5655a16b2f0d",
   "metadata": {},
   "outputs": [
    {
     "name": "stdout",
     "output_type": "stream",
     "text": [
      "False\n",
      "False\n",
      "True\n",
      "Le salarié peut il toucher la prime ? :  True\n"
     ]
    }
   ],
   "source": [
    "anciennete = 6\n",
    "salaire = 1490\n",
    "crit1 = anciennete < 5 and salaire < 1500\n",
    "print(crit1)\n",
    "crit2 = 5 < anciennete < 10 and 1500 < salaire < 2300\n",
    "print(crit2)\n",
    "crit3 = anciennete < 10 and (salaire < 1500 or salaire > 2300)\n",
    "print(crit3)\n",
    "eligible = crit1 or crit2 or crit3\n",
    "print(\"Le salarié peut il toucher la prime ? : \", eligible)\n"
   ]
  },
  {
   "cell_type": "code",
   "execution_count": 4,
   "id": "3650d194-13c2-4204-baf3-85e139342410",
   "metadata": {},
   "outputs": [
    {
     "name": "stdout",
     "output_type": "stream",
     "text": [
      "Ce nombre est strictement positif.\n"
     ]
    }
   ],
   "source": [
    "nombre = 0.0001\n",
    "if nombre == 0:\n",
    "    print('Ce nombre vaut 0')\n",
    "elif nombre > 0:\n",
    "    print(\"Ce nombre est strictement positif.\")\n",
    "else:\n",
    "    print(\"Ce nombre est strictement négatif.\")"
   ]
  },
  {
   "cell_type": "code",
   "execution_count": null,
   "id": "ee8afd47-f242-472c-9a84-7b23a496723b",
   "metadata": {},
   "outputs": [],
   "source": []
  }
 ],
 "metadata": {
  "kernelspec": {
   "display_name": "Python 3 (ipykernel)",
   "language": "python",
   "name": "python3"
  },
  "language_info": {
   "codemirror_mode": {
    "name": "ipython",
    "version": 3
   },
   "file_extension": ".py",
   "mimetype": "text/x-python",
   "name": "python",
   "nbconvert_exporter": "python",
   "pygments_lexer": "ipython3",
   "version": "3.13.3"
  }
 },
 "nbformat": 4,
 "nbformat_minor": 5
}
